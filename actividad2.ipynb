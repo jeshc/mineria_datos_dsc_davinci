{
  "nbformat": 4,
  "nbformat_minor": 0,
  "metadata": {
    "colab": {
      "provenance": [],
      "collapsed_sections": [],
      "authorship_tag": "ABX9TyPp0wpkR/PpNIlDQqyk3zCB",
      "include_colab_link": true
    },
    "kernelspec": {
      "name": "python3",
      "display_name": "Python 3"
    },
    "language_info": {
      "name": "python"
    }
  },
  "cells": [
    {
      "cell_type": "markdown",
      "metadata": {
        "id": "view-in-github",
        "colab_type": "text"
      },
      "source": [
        "<a href=\"https://colab.research.google.com/github/jeshc/mineria_datos_dsc_davinci/blob/main/actividad2.ipynb\" target=\"_parent\"><img src=\"https://colab.research.google.com/assets/colab-badge.svg\" alt=\"Open In Colab\"/></a>"
      ]
    },
    {
      "cell_type": "code",
      "execution_count": null,
      "metadata": {
        "id": "lImQ50f-1B5W",
        "colab": {
          "base_uri": "https://localhost:8080/"
        },
        "outputId": "13d6875a-0f0e-446a-9b93-8e2b9952e06e"
      },
      "outputs": [
        {
          "output_type": "stream",
          "name": "stdout",
          "text": [
            "[13, 15, 16, 16, 19, 20, 20, 21, 22, 22, 25, 25, 25, 25, 30, 33, 33, 35, 35, 35, 35, 36, 40, 45, 46, 52, 70]\n"
          ]
        }
      ],
      "source": [
        "import pandas as pd\n",
        "datos = [13, 15, 16, 16, 19, 20, 20, 21, 22, 22, 25, 25, 25, 25, 30, 33, 33, 35, 35, 35, 35, 36, 40, 45, 46, 52, 70]\n",
        "print(datos)"
      ]
    },
    {
      "cell_type": "code",
      "source": [
        "archivo_salida = open(\"edades.csv\" , 'wt')\n",
        "archivo_salida.write(\"persona,edad\")\n",
        "for index in range(len(datos)):\n",
        "    archivo_salida.write(f\"\\nperson{index},{datos[index]}\")\n",
        "archivo_salida.close()"
      ],
      "metadata": {
        "id": "LWVlTFh53Eys"
      },
      "execution_count": null,
      "outputs": []
    },
    {
      "cell_type": "code",
      "source": [
        "!cat edades.csv"
      ],
      "metadata": {
        "colab": {
          "base_uri": "https://localhost:8080/"
        },
        "id": "9k-syftG4GUE",
        "outputId": "3a8b26cf-069f-47c0-9b7f-857bdff4a079"
      },
      "execution_count": null,
      "outputs": [
        {
          "output_type": "stream",
          "name": "stdout",
          "text": [
            "persona,edad\n",
            "person0,13\n",
            "person1,15\n",
            "person2,16\n",
            "person3,16\n",
            "person4,19\n",
            "person5,20\n",
            "person6,20\n",
            "person7,21\n",
            "person8,22\n",
            "person9,22\n",
            "person10,25\n",
            "person11,25\n",
            "person12,25\n",
            "person13,25\n",
            "person14,30\n",
            "person15,33\n",
            "person16,33\n",
            "person17,35\n",
            "person18,35\n",
            "person19,35\n",
            "person20,35\n",
            "person21,36\n",
            "person22,40\n",
            "person23,45\n",
            "person24,46\n",
            "person25,52\n",
            "person26,70"
          ]
        }
      ]
    },
    {
      "cell_type": "code",
      "source": [
        "df = pd.read_csv(\"edades.csv\")\n",
        "media = df[\"edad\"].mean()\n",
        "print(f\"La media es {media} años\")"
      ],
      "metadata": {
        "colab": {
          "base_uri": "https://localhost:8080/"
        },
        "id": "Izj6W1tF4VEL",
        "outputId": "c5de47ab-773a-4238-e296-9f7a304d05f9"
      },
      "execution_count": null,
      "outputs": [
        {
          "output_type": "stream",
          "name": "stdout",
          "text": [
            "La emdia es 29.962962962962962 años\n"
          ]
        }
      ]
    },
    {
      "cell_type": "code",
      "source": [
        "moda = df[\"edad\"].mode()\n",
        "print(f\"La moda es: \")\n",
        "print(moda)"
      ],
      "metadata": {
        "colab": {
          "base_uri": "https://localhost:8080/"
        },
        "id": "jPtT7waX7mH6",
        "outputId": "c1742c85-ac37-4937-fbe6-c96cf6080b5f"
      },
      "execution_count": null,
      "outputs": [
        {
          "output_type": "stream",
          "name": "stdout",
          "text": [
            "La moda es: \n",
            "0    25\n",
            "1    35\n",
            "dtype: int64\n"
          ]
        }
      ]
    },
    {
      "cell_type": "markdown",
      "source": [
        "# La serie de datos es bimodal"
      ],
      "metadata": {
        "id": "pUlmBwo48Fc2"
      }
    },
    {
      "cell_type": "code",
      "source": [
        "df[\"edad\"].mid_range()"
      ],
      "metadata": {
        "colab": {
          "base_uri": "https://localhost:8080/",
          "height": 288
        },
        "id": "cIbc--qt8K4_",
        "outputId": "8d7d872a-d4c0-42fc-99f8-9c231c7b66fa"
      },
      "execution_count": null,
      "outputs": [
        {
          "output_type": "error",
          "ename": "AttributeError",
          "evalue": "ignored",
          "traceback": [
            "\u001b[0;31m---------------------------------------------------------------------------\u001b[0m",
            "\u001b[0;31mAttributeError\u001b[0m                            Traceback (most recent call last)",
            "\u001b[0;32m<ipython-input-16-4c47395a819c>\u001b[0m in \u001b[0;36m<module>\u001b[0;34m\u001b[0m\n\u001b[0;32m----> 1\u001b[0;31m \u001b[0mdf\u001b[0m\u001b[0;34m[\u001b[0m\u001b[0;34m\"edad\"\u001b[0m\u001b[0;34m]\u001b[0m\u001b[0;34m.\u001b[0m\u001b[0mmid_range\u001b[0m\u001b[0;34m(\u001b[0m\u001b[0;34m)\u001b[0m\u001b[0;34m\u001b[0m\u001b[0;34m\u001b[0m\u001b[0m\n\u001b[0m",
            "\u001b[0;32m/usr/local/lib/python3.7/dist-packages/pandas/core/generic.py\u001b[0m in \u001b[0;36m__getattr__\u001b[0;34m(self, name)\u001b[0m\n\u001b[1;32m   5485\u001b[0m         ):\n\u001b[1;32m   5486\u001b[0m             \u001b[0;32mreturn\u001b[0m \u001b[0mself\u001b[0m\u001b[0;34m[\u001b[0m\u001b[0mname\u001b[0m\u001b[0;34m]\u001b[0m\u001b[0;34m\u001b[0m\u001b[0;34m\u001b[0m\u001b[0m\n\u001b[0;32m-> 5487\u001b[0;31m         \u001b[0;32mreturn\u001b[0m \u001b[0mobject\u001b[0m\u001b[0;34m.\u001b[0m\u001b[0m__getattribute__\u001b[0m\u001b[0;34m(\u001b[0m\u001b[0mself\u001b[0m\u001b[0;34m,\u001b[0m \u001b[0mname\u001b[0m\u001b[0;34m)\u001b[0m\u001b[0;34m\u001b[0m\u001b[0;34m\u001b[0m\u001b[0m\n\u001b[0m\u001b[1;32m   5488\u001b[0m \u001b[0;34m\u001b[0m\u001b[0m\n\u001b[1;32m   5489\u001b[0m     \u001b[0;32mdef\u001b[0m \u001b[0m__setattr__\u001b[0m\u001b[0;34m(\u001b[0m\u001b[0mself\u001b[0m\u001b[0;34m,\u001b[0m \u001b[0mname\u001b[0m\u001b[0;34m:\u001b[0m \u001b[0mstr\u001b[0m\u001b[0;34m,\u001b[0m \u001b[0mvalue\u001b[0m\u001b[0;34m)\u001b[0m \u001b[0;34m->\u001b[0m \u001b[0;32mNone\u001b[0m\u001b[0;34m:\u001b[0m\u001b[0;34m\u001b[0m\u001b[0;34m\u001b[0m\u001b[0m\n",
            "\u001b[0;31mAttributeError\u001b[0m: 'Series' object has no attribute 'mid_range'"
          ]
        }
      ]
    }
  ]
}